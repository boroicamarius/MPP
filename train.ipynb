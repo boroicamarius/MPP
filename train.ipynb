{
 "cells": [
  {
   "cell_type": "code",
   "execution_count": 3,
   "id": "initial_id",
   "metadata": {
    "ExecuteTime": {
     "end_time": "2024-03-26T15:00:36.997374Z",
     "start_time": "2024-03-26T15:00:36.991396Z"
    },
    "collapsed": true
   },
   "outputs": [],
   "source": [
    "from models import DecisionTransformer\n",
    "from environments import Map"
   ]
  },
  {
   "cell_type": "code",
   "execution_count": 4,
   "id": "8147caff616409bc",
   "metadata": {
    "ExecuteTime": {
     "end_time": "2024-03-26T15:00:52.875449Z",
     "start_time": "2024-03-26T15:00:37.209361Z"
    },
    "collapsed": false
   },
   "outputs": [
    {
     "data": {
      "text/plain": [
       "(<environments.simulation.Map at 0x765f50165a10>,\n",
       " DecisionTransformer(\n",
       "   (preprocess): Preprocess(\n",
       "     (reward_embed): Linear(in_features=1, out_features=36, bias=True)\n",
       "     (map_embed): Linear(in_features=300, out_features=36, bias=True)\n",
       "     (path_embed): Linear(in_features=80, out_features=36, bias=True)\n",
       "     (action_embed): Linear(in_features=5, out_features=36, bias=True)\n",
       "     (timestep_embed): Embedding(150, 36)\n",
       "   )\n",
       "   (decoders): Sequential(\n",
       "     (0): Block(\n",
       "       (attention_layer): Attention()\n",
       "       (norm_mid_layer): LayerNorm((21600,), eps=21600, elementwise_affine=True)\n",
       "       (forward_layer): Linear(in_features=21600, out_features=21600, bias=True)\n",
       "       (norm_end_layer): LayerNorm((21600,), eps=21600, elementwise_affine=True)\n",
       "     )\n",
       "     (1): Block(\n",
       "       (attention_layer): Attention()\n",
       "       (norm_mid_layer): LayerNorm((21600,), eps=21600, elementwise_affine=True)\n",
       "       (forward_layer): Linear(in_features=21600, out_features=21600, bias=True)\n",
       "       (norm_end_layer): LayerNorm((21600,), eps=21600, elementwise_affine=True)\n",
       "     )\n",
       "     (2): Block(\n",
       "       (attention_layer): Attention()\n",
       "       (norm_mid_layer): LayerNorm((21600,), eps=21600, elementwise_affine=True)\n",
       "       (forward_layer): Linear(in_features=21600, out_features=21600, bias=True)\n",
       "       (norm_end_layer): LayerNorm((21600,), eps=21600, elementwise_affine=True)\n",
       "     )\n",
       "     (3): Block(\n",
       "       (attention_layer): Attention()\n",
       "       (norm_mid_layer): LayerNorm((21600,), eps=21600, elementwise_affine=True)\n",
       "       (forward_layer): Linear(in_features=21600, out_features=21600, bias=True)\n",
       "       (norm_end_layer): LayerNorm((21600,), eps=21600, elementwise_affine=True)\n",
       "     )\n",
       "     (4): Block(\n",
       "       (attention_layer): Attention()\n",
       "       (norm_mid_layer): LayerNorm((21600,), eps=21600, elementwise_affine=True)\n",
       "       (forward_layer): Linear(in_features=21600, out_features=21600, bias=True)\n",
       "       (norm_end_layer): LayerNorm((21600,), eps=21600, elementwise_affine=True)\n",
       "     )\n",
       "     (5): Block(\n",
       "       (attention_layer): Attention()\n",
       "       (norm_mid_layer): LayerNorm((21600,), eps=21600, elementwise_affine=True)\n",
       "       (forward_layer): Linear(in_features=21600, out_features=21600, bias=True)\n",
       "       (norm_end_layer): LayerNorm((21600,), eps=21600, elementwise_affine=True)\n",
       "     )\n",
       "   )\n",
       "   (finalizers): Finalizer(\n",
       "     (actions_layer): Linear(in_features=21600, out_features=5, bias=True)\n",
       "     (actions_sigmoid): Sigmoid()\n",
       "     (actions_relu): ReLU()\n",
       "     (reward_layer): Linear(in_features=21600, out_features=1, bias=True)\n",
       "     (reward_relu): ReLU()\n",
       "   )\n",
       " ))"
      ]
     },
     "execution_count": 4,
     "metadata": {},
     "output_type": "execute_result"
    }
   ],
   "source": [
    "NR_ROBOTS = 5\n",
    "MAP_FILE_PATH = './maps/base.txt'\n",
    "\n",
    "map = Map(NR_ROBOTS).load(MAP_FILE_PATH)\n",
    "model = DecisionTransformer(\n",
    "    context_window=150,\n",
    "    hidden_dim=36,\n",
    "    n_heads=4,\n",
    "    n_decoders=6,\n",
    "    reward_dim=1,\n",
    "    map_dim=map.get_area(),\n",
    "    path_dim=4 * map.get_nr_robots(),\n",
    "    action_dim=map.get_nr_robots(),\n",
    ")\n",
    "\n",
    "map, model"
   ]
  },
  {
   "cell_type": "code",
   "execution_count": 5,
   "id": "b48f366157bf9017",
   "metadata": {
    "ExecuteTime": {
     "end_time": "2024-03-26T15:00:52.879809Z",
     "start_time": "2024-03-26T15:00:52.876762Z"
    },
    "collapsed": false
   },
   "outputs": [
    {
     "data": {
      "text/plain": [
       "array([[ 1,  2,  6,  6],\n",
       "       [ 3, 21,  0, 25],\n",
       "       [ 4, 11,  2, 27],\n",
       "       [ 1, 29,  3,  2],\n",
       "       [ 0,  9,  3, 22]])"
      ]
     },
     "execution_count": 5,
     "metadata": {},
     "output_type": "execute_result"
    }
   ],
   "source": [
    "map.get_paths()"
   ]
  }
 ],
 "metadata": {
  "kernelspec": {
   "display_name": "Python 3",
   "language": "python",
   "name": "python3"
  },
  "language_info": {
   "codemirror_mode": {
    "name": "ipython",
    "version": 2
   },
   "file_extension": ".py",
   "mimetype": "text/x-python",
   "name": "python",
   "nbconvert_exporter": "python",
   "pygments_lexer": "ipython2",
   "version": "2.7.6"
  }
 },
 "nbformat": 4,
 "nbformat_minor": 5
}
