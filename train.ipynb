{
 "cells": [
  {
   "cell_type": "code",
   "execution_count": 1,
   "id": "2b508f0c710ed328",
   "metadata": {
    "ExecuteTime": {
     "end_time": "2024-03-26T21:36:34.269095Z",
     "start_time": "2024-03-26T21:36:33.319230Z"
    },
    "collapsed": false
   },
   "outputs": [],
   "source": [
    "import numpy as np\n",
    "import torch"
   ]
  },
  {
   "cell_type": "code",
   "execution_count": 2,
   "id": "initial_id",
   "metadata": {
    "ExecuteTime": {
     "end_time": "2024-03-26T21:36:34.274169Z",
     "start_time": "2024-03-26T21:36:34.270166Z"
    },
    "collapsed": true
   },
   "outputs": [],
   "source": [
    "from models import DecisionTransformer\n",
    "from environments import Map\n",
    "import seaborn as sns"
   ]
  },
  {
   "cell_type": "code",
   "execution_count": null,
   "id": "8147caff616409bc",
   "metadata": {
    "ExecuteTime": {
     "start_time": "2024-03-26T21:36:34.274963Z"
    },
    "collapsed": false,
    "is_executing": true
   },
   "outputs": [],
   "source": [
    "NR_ROBOTS = 5\n",
    "CONTEXT_SIZE = 150\n",
    "MAP_FILE_PATH = './maps/base.txt'\n",
    "\n",
    "map = Map(num_robots=NR_ROBOTS, context_window=CONTEXT_SIZE).load(MAP_FILE_PATH)\n",
    "model = DecisionTransformer(\n",
    "    context_window=CONTEXT_SIZE,\n",
    "    hidden_dim=168,\n",
    "    n_heads=12,\n",
    "    n_decoders=6,\n",
    "    reward_dim=1,\n",
    "    map_dim=map.get_area(),\n",
    "    path_dim=map.get_nr_robots(),\n",
    "    action_dim=map.get_nr_robots()\n",
    ").to('cuda')\n",
    "\n",
    "map, model"
   ]
  },
  {
   "cell_type": "code",
   "execution_count": null,
   "id": "b48f366157bf9017",
   "metadata": {
    "collapsed": false,
    "is_executing": true
   },
   "outputs": [],
   "source": [
    "reward_states, map_states, path_states, action_states = map.get_states()\n",
    "reward_states, map_states, path_states, action_states"
   ]
  },
  {
   "cell_type": "code",
   "execution_count": null,
   "id": "9e70e760906ce431",
   "metadata": {
    "collapsed": false,
    "is_executing": true
   },
   "outputs": [],
   "source": [
    "from IPython.display import clear_output\n",
    "from pprint import pprint\n",
    "\n",
    "\n",
    "def render_map():\n",
    "    value_map = np.array(map.get_map()[:]).copy().tolist()\n",
    "    targets = map.get_targets()\n",
    "    robots = map.get_robots()\n",
    "\n",
    "    for target in targets:\n",
    "        y, x = target\n",
    "        value_map[y][x] = 2\n",
    "\n",
    "    for robot in robots:\n",
    "        y, x = robot\n",
    "        value_map[y][x] = 3\n",
    "\n",
    "    char_map = [' ', '*', 'x', 'r']\n",
    "\n",
    "    rendered_map = [[char_map[int(value_map[y][x])] for x in range(map.get_width())] for y in range(map.get_height())]\n",
    "    compressed_map = [''.join(rendered_map[index]) for index in range(map.get_height())]\n",
    "    return '\\n'.join(compressed_map)\n",
    "\n",
    "\n",
    "for it in range(5):\n",
    "    # clear_output(wait=True)\n",
    "    print(it)\n",
    "    states = map.get_states()\n",
    "    print(states[0])\n",
    "    model_output = model(*states)\n",
    "    print(model_output)\n",
    "    actions = torch.round(model_output[:-1]).tolist()\n",
    "    reward = model_output[-1]\n",
    "    map.move_robots(actions)\n",
    "    print(render_map())"
   ]
  },
  {
   "cell_type": "code",
   "execution_count": null,
   "id": "49ae5e1758506875",
   "metadata": {
    "collapsed": false,
    "is_executing": true
   },
   "outputs": [],
   "source": []
  }
 ],
 "metadata": {
  "kernelspec": {
   "display_name": "Python 3",
   "language": "python",
   "name": "python3"
  },
  "language_info": {
   "codemirror_mode": {
    "name": "ipython",
    "version": 2
   },
   "file_extension": ".py",
   "mimetype": "text/x-python",
   "name": "python",
   "nbconvert_exporter": "python",
   "pygments_lexer": "ipython2",
   "version": "2.7.6"
  }
 },
 "nbformat": 4,
 "nbformat_minor": 5
}
